{
 "cells": [
  {
   "cell_type": "markdown",
   "metadata": {},
   "source": [
    "# Download \"Sternengeschichten\" podcast\n",
    "\n",
    "## Download feed.xml and parse the entries"
   ]
  },
  {
   "cell_type": "code",
   "execution_count": null,
   "metadata": {},
   "outputs": [],
   "source": [
    "import feedparser\n",
    "import pandas as pd\n",
    "import re\n",
    "import requests\n",
    "import os\n",
    "from joblib import Parallel, delayed\n",
    "\n",
    "N_JOBS = 10\n",
    "RSS_URL = 'http://feeds.feedburner.com/sternengeschichten?format=xml'\n",
    "OUT_FOLDER = 'data'\n",
    "\n",
    "feeds = feedparser.parse(RSS_URL)\n",
    "\n",
    "def get_folge(x):\n",
    "    matches = re.findall(r'Folge (\\d+) ?[:-]', x)\n",
    "    return matches[0]\n",
    "\n",
    "def get_title(title):\n",
    "    matches = re.findall(r'Folge \\d+ ?[:-](.+)', title)\n",
    "    return matches[0].strip()\n",
    "\n",
    "# Create pandas dataframe and parse folgen id \n",
    "df = pd.DataFrame(feeds['entries']).set_index('id')\n",
    "df['folge'] = pd.to_numeric(df.title.map(get_folge))\n",
    "df.set_index('folge', inplace = True)\n",
    "df.sort_index(inplace = True)"
   ]
  },
  {
   "cell_type": "markdown",
   "metadata": {},
   "source": [
    "## Download files"
   ]
  },
  {
   "cell_type": "code",
   "execution_count": null,
   "metadata": {},
   "outputs": [],
   "source": [
    "os.makedirs(OUT_FOLDER, exist_ok= True)\n",
    "\n",
    "def download_folge(folge, item):\n",
    "    mp3_link = item.feedburner_origenclosurelink\n",
    "    title = get_title(item.title)\n",
    "    folgen_title = '{} - {}'.format(str(folge).zfill(3), title)\n",
    "    \n",
    "    def print_(msg):\n",
    "        print('{:40}\\n\\t{}'.format(folgen_title, msg))\n",
    "    \n",
    "    filename = os.path.join(OUT_FOLDER, '{}.mp3'.format(folgen_title))\n",
    "    if os.path.exists(filename):\n",
    "        print_('Already downloaded')\n",
    "        return\n",
    "    \n",
    "    print_('Starting download')\n",
    "    res = requests.get(mp3_link)\n",
    "    with open(filename, 'wb') as f:\n",
    "        f.write(res.content)\n",
    "    print_('Finished download')\n",
    "\n",
    "Parallel(n_jobs=N_JOBS)(delayed(download_folge)(*x) for x in df.iterrows())"
   ]
  }
 ],
 "metadata": {
  "anaconda-cloud": {},
  "kernelspec": {
   "display_name": "Python [conda root]",
   "language": "python",
   "name": "conda-root-py"
  },
  "language_info": {
   "codemirror_mode": {
    "name": "ipython",
    "version": 3
   },
   "file_extension": ".py",
   "mimetype": "text/x-python",
   "name": "python",
   "nbconvert_exporter": "python",
   "pygments_lexer": "ipython3",
   "version": "3.5.3"
  },
  "toc": {
   "colors": {
    "hover_highlight": "#DAA520",
    "navigate_num": "#000000",
    "navigate_text": "#333333",
    "running_highlight": "#FF0000",
    "selected_highlight": "#FFD700",
    "sidebar_border": "#EEEEEE",
    "wrapper_background": "#FFFFFF"
   },
   "moveMenuLeft": true,
   "nav_menu": {
    "height": "4px",
    "width": "254px"
   },
   "navigate_menu": true,
   "number_sections": true,
   "sideBar": true,
   "threshold": 4,
   "toc_cell": false,
   "toc_section_display": "block",
   "toc_window_display": false,
   "widenNotebook": false
  }
 },
 "nbformat": 4,
 "nbformat_minor": 2
}
